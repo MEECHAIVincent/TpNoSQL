{
 "cells": [
  {
   "cell_type": "code",
   "execution_count": 1,
   "metadata": {},
   "outputs": [],
   "source": [
    "#Q : Après avoir installé MongoDB, lister les DB fournies par défaut (ds l'installation) ?\n",
    "\n",
    "#> show dbs\n",
    "#admin   0.000GB\n",
    "#config  0.000GB\n",
    "#local   0.000GB"
   ]
  },
  {
   "cell_type": "code",
   "execution_count": 6,
   "metadata": {},
   "outputs": [
    {
     "name": "stdout",
     "output_type": "stream",
     "text": [
      "connexion success\n"
     ]
    }
   ],
   "source": [
    "from pymongo import MongoClient\n",
    "client = MongoClient('mongodb://localhost:27017/')\n",
    "db = client.metflix\n",
    "movies = db.movies\n",
    "users = db.users\n",
    "print('connexion success')"
   ]
  },
  {
   "cell_type": "markdown",
   "metadata": {},
   "source": [
    "# insertOne() avec MongoDB & Python (pymongo)"
   ]
  },
  {
   "cell_type": "code",
   "execution_count": 7,
   "metadata": {},
   "outputs": [],
   "source": [
    "#Q : Créer 1è DB \"metflix\" qui contient 1collection \"movies\" dans laquelle vs inserez les documents suivants :\n",
    "#    Comparer le comportement du shell Mongo et Python\n",
    "\n",
    "#Commande mongo:\n",
    "\n",
    "#db.movies.insertOne({\"title\" : \"Rocky\" ,\"year\" : 1976})\n",
    "#db.movies.insertOne({\"title\" : \"Rocky\" ,\"year\" : 1976 ,\"_id\" : \"tt0075148\"})\n",
    "#db.movies.insertOne({\"title\" : \"Rocky\" ,\"year\" : 1976 ,\"_id\" : \"tt0075148\"})\n",
    "#db.movies.insertOne({\"title\" : \"Rocky\" ,\"year\" : 1976})\n"
   ]
  },
  {
   "cell_type": "code",
   "execution_count": 8,
   "metadata": {},
   "outputs": [
    {
     "name": "stdout",
     "output_type": "stream",
     "text": [
      "{'_id': ObjectId('60004760b99e381bbdb58e0e'), 'title': 'Rocky', 'year': 1976.0}\n",
      "{'_id': 'tt0075148', 'title': 'Rocky', 'year': 1976.0}\n",
      "{'_id': ObjectId('600047e1b99e381bbdb58e0f'), 'title': 'Rocky', 'year': 1976.0}\n"
     ]
    }
   ],
   "source": [
    "for movie in movies.find():\n",
    "    print(movie)"
   ]
  },
  {
   "cell_type": "code",
   "execution_count": 9,
   "metadata": {},
   "outputs": [],
   "source": [
    "#et 1autre collection \"users\" :\n",
    "#  - qui contient un document qui porte votre nom et prénom,\n",
    "\n",
    "#Commande mongo:\n",
    "#db.users.insertOne({\"nom\" : \"MEECHAI\" ,\"prenom\" : \"Vincent\"})"
   ]
  },
  {
   "cell_type": "code",
   "execution_count": 13,
   "metadata": {},
   "outputs": [
    {
     "name": "stdout",
     "output_type": "stream",
     "text": [
      "{'_id': ObjectId('600048a3b99e381bbdb58e10'), 'nom': 'MEECHAI', 'prenom': 'Vincent'}\n"
     ]
    }
   ],
   "source": [
    "for user in users.find():\n",
    "    print(user)"
   ]
  },
  {
   "cell_type": "code",
   "execution_count": 14,
   "metadata": {},
   "outputs": [
    {
     "name": "stdout",
     "output_type": "stream",
     "text": [
      "0.02156209945678711\n"
     ]
    }
   ],
   "source": [
    "# Démarche et Indices Python : tout en gérant les exceptions (try/except)\n",
    "\n",
    "from pymongo import MongoClient, errors\n",
    "\n",
    "import time\n",
    "\n",
    "# epoch time before API call\n",
    "\n",
    "start = time.time()\n",
    "\n",
    "try:\n",
    "\n",
    "# attempt to create a client instance of PyMongo driver\n",
    "\n",
    "    client = MongoClient(host = 'mongodb://localhost:27017/', serverSelectionTimeoutMS = 2000)\n",
    "\n",
    "# call the server_info() to verify that client instance is valid\n",
    "\n",
    "    client.server_info() # will throw an exception\n",
    "\n",
    "except:\n",
    "\n",
    "    print (\"connection error\")\n",
    "\n",
    "# print the time that has elapsed\n",
    "\n",
    "print (time.time() - start)\n",
    "\n",
    "# define a function that validates the client instance\n",
    "\n",
    "#def mongodb_connect(domain, port):\n",
    "\n",
    "# create a domain and port string for the MongoDB server\n",
    "\n",
    "#domain_str = str(domain) + \":\" + str(port)"
   ]
  },
  {
   "cell_type": "code",
   "execution_count": 15,
   "metadata": {},
   "outputs": [
    {
     "name": "stdout",
     "output_type": "stream",
     "text": [
      "collection movies added\n"
     ]
    }
   ],
   "source": [
    "try:\n",
    "\n",
    "# create new database and collection instances\n",
    "\n",
    "    db = client.metflix\n",
    "\n",
    "    movies = db[\"movies\"]\n",
    "    \n",
    "    print(\"collection movies added\")\n",
    "\n",
    "except:\n",
    "    \n",
    "    print (\"Get MongoDB database and collection ERROR:\")\n",
    "\n",
    "\n",
    "# connect to a MongoDB server that doesn't exist\n",
    "\n",
    "#client = MongoClient(\n",
    "\n",
    "#host = [\"DOES_NOT_EXIST\"],\n",
    "\n",
    "# timeout is in milliseconds\n",
    "\n",
    "#serverSelectionTimeoutMS = 2000\n",
    "\n",
    "#)"
   ]
  },
  {
   "cell_type": "markdown",
   "metadata": {},
   "source": [
    "# insertMany() "
   ]
  },
  {
   "cell_type": "code",
   "execution_count": 16,
   "metadata": {},
   "outputs": [],
   "source": [
    "#Q : Supp la dernière collection, la recréer en y insérant les documents suivants :\n",
    "\n",
    "#Commande mongo:\n",
    "#db.movies.drop()\n",
    "#db.movies.insertMany([{\"title\" : \"Rocky\" ,\"year\" : 1976 ,\"_id\" : \"tt0075148\"},\n",
    "#{\"title\": \"Jaws\" ,\"year\": 1975 ,\"imdb\": \"tt0073195\"},\n",
    "#{\"title\": \"Mad Max 2 : The Road Warrior\" ,\"year\" : 1981 ,\"imdb\" : \"tt0082694\"},\n",
    "#{\"title\" : \"Raiders of the Lost Ark\" ,\"year\" : 1981 ,\"imdb\" : \"tt0082971\"}])"
   ]
  },
  {
   "cell_type": "markdown",
   "metadata": {},
   "source": [
    "# find avec des paramètres"
   ]
  },
  {
   "cell_type": "code",
   "execution_count": 21,
   "metadata": {},
   "outputs": [
    {
     "name": "stdout",
     "output_type": "stream",
     "text": [
      "{'_id': 'tt0075148', 'title': 'Rocky', 'year': 1976.0}\n",
      "{'_id': ObjectId('60004c60b99e381bbdb58e11'), 'title': 'Jaws', 'year': 1975.0, 'imdb': 'tt0073195'}\n",
      "{'_id': ObjectId('60004c60b99e381bbdb58e12'), 'title': 'Mad Max 2 : The Road Warrior', 'year': 1981.0, 'imdb': 'tt0082694'}\n",
      "{'_id': ObjectId('60004c60b99e381bbdb58e13'), 'title': 'Raiders of the Lost Ark', 'year': 1981.0, 'imdb': 'tt0082971'}\n"
     ]
    }
   ],
   "source": [
    "#Q : Afficher ts les documents de la collection movies, le tout 1è document, le(s) document(s) où on trouve les films produits en 1981, le document où on trouve le film qui porte le titre \"Jaws\" ?\n",
    "\n",
    "\n",
    "for movie in movies.find():\n",
    "    print(movie)"
   ]
  },
  {
   "cell_type": "code",
   "execution_count": 23,
   "metadata": {},
   "outputs": [
    {
     "name": "stdout",
     "output_type": "stream",
     "text": [
      "_id\n",
      "title\n",
      "year\n"
     ]
    }
   ],
   "source": [
    "for movie in movies.find_one():\n",
    "    print(movie)"
   ]
  },
  {
   "cell_type": "code",
   "execution_count": 24,
   "metadata": {},
   "outputs": [
    {
     "name": "stdout",
     "output_type": "stream",
     "text": [
      "{'_id': ObjectId('60004c60b99e381bbdb58e12'), 'title': 'Mad Max 2 : The Road Warrior', 'year': 1981.0, 'imdb': 'tt0082694'}\n",
      "{'_id': ObjectId('60004c60b99e381bbdb58e13'), 'title': 'Raiders of the Lost Ark', 'year': 1981.0, 'imdb': 'tt0082971'}\n"
     ]
    }
   ],
   "source": [
    "for movie in movies.find({\"year\":1981}):\n",
    "    print(movie)"
   ]
  },
  {
   "cell_type": "code",
   "execution_count": 25,
   "metadata": {},
   "outputs": [
    {
     "name": "stdout",
     "output_type": "stream",
     "text": [
      "{'_id': ObjectId('60004c60b99e381bbdb58e11'), 'title': 'Jaws', 'year': 1975.0, 'imdb': 'tt0073195'}\n"
     ]
    }
   ],
   "source": [
    "for movie in movies.find({\"title\":\"Jaws\"}):\n",
    "    print(movie)"
   ]
  },
  {
   "cell_type": "markdown",
   "metadata": {},
   "source": [
    "# Import de fichiers .json ?  "
   ]
  },
  {
   "cell_type": "code",
   "execution_count": 1,
   "metadata": {},
   "outputs": [
    {
     "name": "stdout",
     "output_type": "stream",
     "text": [
      "connexion success\n"
     ]
    }
   ],
   "source": [
    "# Q : Créer une DB movies_artists avec deux collections : une pour les films et l’autre pour les artistes (voir les fichiers artists.json et movies.json associés) ?\n",
    "# Rq: Préciser, lors de l'injection des fichiers json, dans la commande \"mongoimport\" la possibilité de supprimer la collection si elle existe (pour qu'elle soit recréer de nouveau et y injecter de la data fraîche).\n",
    "\n",
    "from pprint import pprint\n",
    "from pymongo import MongoClient\n",
    "client = MongoClient('mongodb://localhost:27017/')\n",
    "db = client.movies_artists\n",
    "movies = db.movies\n",
    "artists = db.artists\n",
    "print('connexion success')\n"
   ]
  },
  {
   "cell_type": "code",
   "execution_count": 39,
   "metadata": {},
   "outputs": [
    {
     "name": "stdout",
     "output_type": "stream",
     "text": [
      "85\n",
      "179\n"
     ]
    },
    {
     "name": "stderr",
     "output_type": "stream",
     "text": [
      "c:\\program files (x86)\\python37-32\\lib\\site-packages\\ipykernel_launcher.py:6: DeprecationWarning: count is deprecated. Use Collection.count_documents instead.\n",
      "  \n",
      "c:\\program files (x86)\\python37-32\\lib\\site-packages\\ipykernel_launcher.py:7: DeprecationWarning: count is deprecated. Use Collection.count_documents instead.\n",
      "  import sys\n"
     ]
    }
   ],
   "source": [
    "#commande mongo:\n",
    "\n",
    "# mongoimport -d movies_artists -c artists --drop --file \"C:\\Users\\vince\\Downloads\\NoSQL\\fichierJson\\artists.json\" --jsonArray\n",
    "# mongoimport -d movies_artists -c movies --drop --file \"C:\\Users\\vince\\Downloads\\NoSQL\\fichierJson\\movies.json\" --jsonArray\n",
    "\n",
    "print(movies.find().count())\n",
    "print(artists.find().count())"
   ]
  },
  {
   "cell_type": "code",
   "execution_count": 40,
   "metadata": {},
   "outputs": [
    {
     "name": "stdout",
     "output_type": "stream",
     "text": [
      "88\n"
     ]
    },
    {
     "name": "stderr",
     "output_type": "stream",
     "text": [
      "c:\\program files (x86)\\python37-32\\lib\\site-packages\\ipykernel_launcher.py:5: DeprecationWarning: count is deprecated. Use Collection.count_documents instead.\n",
      "  \"\"\"\n"
     ]
    }
   ],
   "source": [
    "#Q : Augmenter la collection movies avec le fichier movies_suite.json ?\n",
    "\n",
    "#commande mongo:\n",
    "# mongoimport -d movies_artists -c movies --mode insert --file \"C:\\Users\\vince\\Downloads\\NoSQL\\fichierJson\\movies_suite.json\" --jsonArray\n",
    "print(movies.find().count())"
   ]
  },
  {
   "cell_type": "code",
   "execution_count": 41,
   "metadata": {},
   "outputs": [
    {
     "name": "stdout",
     "output_type": "stream",
     "text": [
      "206\n"
     ]
    },
    {
     "name": "stderr",
     "output_type": "stream",
     "text": [
      "c:\\program files (x86)\\python37-32\\lib\\site-packages\\ipykernel_launcher.py:6: DeprecationWarning: count is deprecated. Use Collection.count_documents instead.\n",
      "  \n"
     ]
    }
   ],
   "source": [
    "# Q : Augmenter la collection artists avec le fichier artists_suite.json après l'avoir transformer en csv (la conversion du json vers csv est obligatoire) ?\n",
    "\n",
    "\n",
    "#commande mongo:\n",
    "# mongoimport -d movies_artists -c artists --type csv --headerline --file \"C:\\Users\\vince\\Downloads\\NoSQL\\fichierJson\\artists_suite.csv\"\n",
    "print(artists.find().count())"
   ]
  },
  {
   "cell_type": "code",
   "execution_count": 47,
   "metadata": {},
   "outputs": [
    {
     "name": "stdout",
     "output_type": "stream",
     "text": [
      "{'_id': 'movie:1', 'title': 'Vertigo', 'year': 1958, 'genre': 'drama', 'summary': \"Scottie Ferguson, ancien inspecteur de police, est sujet au vertige depuis qu'il a vu mourir son collègue. Elster, son ami, le charge de surveiller sa femme, Madeleine, ayant des tendances suicidaires. Amoureux de la jeune femme Scottie ne remarque pas le piège qui se trame autour de lui et dont il va être la victime... \", 'country': 'DE', 'director': {'_id': 'artist:3'}, 'actors': [{'_id': 'artist:15', 'role': 'John Ferguson'}, {'_id': 'artist:16', 'role': 'Madeleine Elster'}, {'_id': 'artist:282', 'role': None}]}\n"
     ]
    }
   ],
   "source": [
    "#Q : Qu'est-ce q'un upsert et cmnt faire upsert à l'aide d'un fichier json ?\n",
    "\n",
    "\n",
    "for movie in movies.find({\"_id\":\"movie:1\"}):\n",
    "    print(movie)"
   ]
  },
  {
   "cell_type": "code",
   "execution_count": 48,
   "metadata": {},
   "outputs": [
    {
     "name": "stdout",
     "output_type": "stream",
     "text": [
      "{'_id': 'movie:1', 'title': 'Vertigo', 'year': 1970, 'genre': 'drama', 'summary': \"Scottie Ferguson, ancien inspecteur de police, est sujet au vertige depuis qu'il a vu mourir son collègue. Elster, son ami, le charge de surveiller sa femme, Madeleine, ayant des tendances suicidaires. Amoureux de la jeune femme Scottie ne remarque pas le piège qui se trame autour de lui et dont il va être la victime... \", 'country': 'DE', 'director': {'_id': 'artist:3'}, 'actors': [{'_id': 'artist:15', 'role': 'John Ferguson'}, {'_id': 'artist:16', 'role': 'Madeleine Elster'}, {'_id': 'artist:282', 'role': None}]}\n"
     ]
    }
   ],
   "source": [
    "#Commande mongo:\n",
    "# mongoimport -d movies_artists -c movies --mode upsert --upsertFields _id --file \"C:\\Users\\vince\\Downloads\\NoSQL\\fichierJson\\movies_upsert.json\" --jsonArray\n",
    "\n",
    "\n",
    "for movie in movies.find({\"_id\":\"movie:1\"}):\n",
    "    print(movie)"
   ]
  },
  {
   "cell_type": "markdown",
   "metadata": {},
   "source": [
    "# Pagination des résultats ?"
   ]
  },
  {
   "cell_type": "code",
   "execution_count": 50,
   "metadata": {},
   "outputs": [
    {
     "name": "stdout",
     "output_type": "stream",
     "text": [
      "{'_id': 'movie:16', 'title': 'Le last_name de la rose'}\n",
      "{'_id': 'movie:17', 'title': 'Pulp fiction'}\n",
      "{'_id': 'movie:19', 'title': 'Terminator'}\n",
      "{'_id': 'movie:20', 'title': 'Les dents de la mer'}\n",
      "{'_id': 'movie:18', 'title': 'Mary à tout prix'}\n",
      "{'_id': 'movie:21', 'title': 'Le silence des agneaux'}\n",
      "{'_id': 'movie:22', 'title': 'Godzilla'}\n",
      "{'_id': 'movie:23', 'title': 'Matrix'}\n",
      "{'_id': 'movie:24', 'title': 'Mission: Impossible'}\n",
      "{'_id': 'movie:25', 'title': 'Kagemusha'}\n",
      "{'_id': 'movie:2', 'title': 'Alien'}\n",
      "{'_id': 'movie:7', 'title': 'American Beauty'}\n"
     ]
    }
   ],
   "source": [
    "#Q : Afficher les 12 documents (films) à partir du dixième inclus en se limitant aux title et _id ?\n",
    "    \n",
    "for movie in movies.find({},{\"title\":1, \"_id\":1}).limit(12).skip(9):\n",
    "    print(movie)"
   ]
  },
  {
   "cell_type": "markdown",
   "metadata": {},
   "source": [
    "# Trier les resultats ? \n"
   ]
  },
  {
   "cell_type": "code",
   "execution_count": 26,
   "metadata": {},
   "outputs": [
    {
     "name": "stdout",
     "output_type": "stream",
     "text": [
      "{'_id': 'movie:12', 'title': '58 minutes pour vivre'}\n",
      "{'_id': 'movie:2', 'title': 'Alien'}\n",
      "{'_id': 'movie:7', 'title': 'American Beauty'}\n",
      "{'_id': 'movie:53', 'title': 'Bad Lieutenant'}\n",
      "{'_id': 'movie:88', 'title': 'Batman begins'}\n",
      "{'_id': 'movie:10', 'title': 'Blade Runner'}\n",
      "{'_id': 'movie:72', 'title': 'Casino'}\n",
      "{'_id': 'movie:73', 'title': 'Casino Royale'}\n",
      "{'_id': 'movie:51', 'title': 'De bruit et de fureur'}\n",
      "{'_id': 'movie:78', 'title': 'Django unchained'}\n",
      "{'_id': 'movie:37', 'title': 'Eyes Wide Shut'}\n",
      "{'_id': 'movie:77', 'title': 'Fargo'}\n",
      "{'_id': 'movie:40', 'title': 'Fenêtre sur cour'}\n",
      "{'_id': 'movie:9', 'title': 'Gladiator'}\n",
      "{'_id': 'movie:22', 'title': 'Godzilla'}\n",
      "{'_id': 'movie:69', 'title': 'Heat'}\n",
      "{'_id': 'movie:8', 'title': 'Impitoyable'}\n",
      "{'_id': 'movie:86', 'title': 'Inception'}\n",
      "{'_id': 'movie:79', 'title': 'Inglourious Basterds'}\n",
      "{'_id': 'movie:80', 'title': 'Inglourious Basterds'}\n",
      "{'_id': 'movie:85', 'title': 'Interstellar'}\n",
      "{'_id': 'movie:57', 'title': 'Jackie Brown'}\n",
      "{'_id': 'movie:42', 'title': \"Jeanne d'Arc\"}\n",
      "{'_id': 'movie:25', 'title': 'Kagemusha'}\n",
      "{'_id': 'movie:61', 'title': 'Kill Bill'}\n",
      "{'_id': 'movie:48', 'title': 'King of New York'}\n",
      "{'_id': 'movie:41', 'title': 'La mort aux trousses'}\n",
      "{'_id': 'movie:32', 'title': 'Le bon, la brute et le truand'}\n",
      "{'_id': 'movie:43', 'title': 'Le cinquième élément'}\n",
      "{'_id': 'movie:82', 'title': 'Le dernier métro'}\n",
      "{'_id': 'movie:27', 'title': 'Le gendarme et les extra-terrestres'}\n",
      "{'_id': 'movie:46', 'title': 'Le grand bleu'}\n",
      "{'_id': 'movie:16', 'title': 'Le last_name de la rose'}\n",
      "{'_id': 'movie:28', 'title': 'Le monde perdu'}\n",
      "{'_id': 'movie:54', 'title': 'Le parrain'}\n",
      "{'_id': 'movie:55', 'title': 'Le parrain II'}\n",
      "{'_id': 'movie:56', 'title': 'Le parrain III'}\n",
      "{'_id': 'movie:34', 'title': 'Le retour du Jedi'}\n",
      "{'_id': 'movie:21', 'title': 'Le silence des agneaux'}\n",
      "{'_id': 'movie:71', 'title': 'Les affranchis'}\n",
      "{'_id': 'movie:31', 'title': 'Les bronzés font du ski'}\n",
      "{'_id': 'movie:20', 'title': 'Les dents de la mer'}\n",
      "{'_id': 'movie:35', 'title': 'Les oiseaux'}\n",
      "{'_id': 'movie:26', 'title': 'Les pleins pouvoirs'}\n",
      "{'_id': 'movie:81', 'title': 'Les quatre cents coups'}\n",
      "{'_id': 'movie:60', 'title': 'Lost in Translation'}\n",
      "{'_id': 'movie:44', 'title': 'Léon'}\n",
      "{'_id': 'movie:67', 'title': 'Marie Antoinette'}\n",
      "{'_id': 'movie:18', 'title': 'Mary à tout prix'}\n",
      "{'_id': 'movie:23', 'title': 'Matrix'}\n",
      "{'_id': 'movie:87', 'title': 'Memento'}\n",
      "{'_id': 'movie:63', 'title': 'Million Dollar Baby'}\n",
      "{'_id': 'movie:24', 'title': 'Mission: Impossible'}\n",
      "{'_id': 'movie:45', 'title': 'Nikita'}\n",
      "{'_id': 'movie:76', 'title': 'No country for old men'}\n",
      "{'_id': 'movie:92', 'title': 'Nous trois ou rien'}\n",
      "{'_id': 'movie:39', 'title': 'Pas de printemps pour Marnie'}\n",
      "{'_id': 'movie:11', 'title': 'Piège de cristal'}\n",
      "{'_id': 'movie:64', 'title': 'Pour quelques dollars de plus'}\n",
      "{'_id': 'movie:33', 'title': 'Psychose'}\n",
      "{'_id': 'movie:17', 'title': 'Pulp fiction'}\n",
      "{'_id': 'movie:29', 'title': 'Rain Man'}\n",
      "{'_id': 'movie:36', 'title': 'Reservoir dogs'}\n",
      "{'_id': 'movie:84', 'title': 'Rio Grande'}\n",
      "{'_id': 'movie:4', 'title': 'Sacrifice'}\n",
      "{'_id': 'movie:14', 'title': 'Seven'}\n",
      "{'_id': 'movie:38', 'title': 'Shining'}\n",
      "{'_id': 'movie:59', 'title': 'Sixième sens'}\n",
      "{'_id': 'movie:74', 'title': 'Skyfall'}\n",
      "{'_id': 'movie:6', 'title': 'Sleepy Hollow'}\n",
      "{'_id': 'movie:68', 'title': 'Soleil vert'}\n",
      "{'_id': 'movie:47', 'title': 'Spider-Man'}\n",
      "{'_id': 'movie:62', 'title': 'Stalingrad'}\n",
      "{'_id': 'movie:70', 'title': 'Taxi driver'}\n",
      "{'_id': 'movie:19', 'title': 'Terminator'}\n",
      "{'_id': 'movie:89', 'title': 'The Dark Knight'}\n",
      "{'_id': 'movie:90', 'title': 'The Dark Knight Rises'}\n",
      "{'_id': 'movie:50', 'title': 'The Matrix Revolutions'}\n",
      "{'_id': 'movie:49', 'title': 'The Matrix reloaded'}\n",
      "{'_id': 'movie:3', 'title': 'Titanic'}\n",
      "{'_id': 'movie:30', 'title': 'Top Gun'}\n",
      "{'_id': 'movie:15', 'title': 'Twelve Monkeys'}\n",
      "{'_id': 'movie:91', 'title': 'Un prophète'}\n",
      "{'_id': 'movie:58', 'title': 'Une journée en enfer'}\n",
      "{'_id': 'movie:52', 'title': 'Usual suspects'}\n",
      "{'_id': 'movie:13', 'title': 'Van Gogh'}\n",
      "{'_id': 'movie:1', 'title': 'Vertigo'}\n",
      "{'_id': 'movie:5', 'title': 'Volte/Face'}\n"
     ]
    }
   ],
   "source": [
    "#Q : Trier les documents (de la dernière qry) sur le titre du film ds un ordre croissant (ensuite décroissant) ?\n",
    "\n",
    "#Ordre croissant\n",
    "for movie in movies.find({},{\"title\":1}).sort(\"title\",1):\n",
    "    print(movie)"
   ]
  },
  {
   "cell_type": "code",
   "execution_count": 27,
   "metadata": {},
   "outputs": [
    {
     "name": "stdout",
     "output_type": "stream",
     "text": [
      "{'_id': 'movie:5', 'title': 'Volte/Face'}\n",
      "{'_id': 'movie:1', 'title': 'Vertigo'}\n",
      "{'_id': 'movie:13', 'title': 'Van Gogh'}\n",
      "{'_id': 'movie:52', 'title': 'Usual suspects'}\n",
      "{'_id': 'movie:58', 'title': 'Une journée en enfer'}\n",
      "{'_id': 'movie:91', 'title': 'Un prophète'}\n",
      "{'_id': 'movie:15', 'title': 'Twelve Monkeys'}\n",
      "{'_id': 'movie:30', 'title': 'Top Gun'}\n",
      "{'_id': 'movie:3', 'title': 'Titanic'}\n",
      "{'_id': 'movie:49', 'title': 'The Matrix reloaded'}\n",
      "{'_id': 'movie:50', 'title': 'The Matrix Revolutions'}\n",
      "{'_id': 'movie:90', 'title': 'The Dark Knight Rises'}\n",
      "{'_id': 'movie:89', 'title': 'The Dark Knight'}\n",
      "{'_id': 'movie:19', 'title': 'Terminator'}\n",
      "{'_id': 'movie:70', 'title': 'Taxi driver'}\n",
      "{'_id': 'movie:62', 'title': 'Stalingrad'}\n",
      "{'_id': 'movie:47', 'title': 'Spider-Man'}\n",
      "{'_id': 'movie:68', 'title': 'Soleil vert'}\n",
      "{'_id': 'movie:6', 'title': 'Sleepy Hollow'}\n",
      "{'_id': 'movie:74', 'title': 'Skyfall'}\n",
      "{'_id': 'movie:59', 'title': 'Sixième sens'}\n",
      "{'_id': 'movie:38', 'title': 'Shining'}\n",
      "{'_id': 'movie:14', 'title': 'Seven'}\n",
      "{'_id': 'movie:4', 'title': 'Sacrifice'}\n",
      "{'_id': 'movie:84', 'title': 'Rio Grande'}\n",
      "{'_id': 'movie:36', 'title': 'Reservoir dogs'}\n",
      "{'_id': 'movie:29', 'title': 'Rain Man'}\n",
      "{'_id': 'movie:17', 'title': 'Pulp fiction'}\n",
      "{'_id': 'movie:33', 'title': 'Psychose'}\n",
      "{'_id': 'movie:64', 'title': 'Pour quelques dollars de plus'}\n",
      "{'_id': 'movie:11', 'title': 'Piège de cristal'}\n",
      "{'_id': 'movie:39', 'title': 'Pas de printemps pour Marnie'}\n",
      "{'_id': 'movie:92', 'title': 'Nous trois ou rien'}\n",
      "{'_id': 'movie:76', 'title': 'No country for old men'}\n",
      "{'_id': 'movie:45', 'title': 'Nikita'}\n",
      "{'_id': 'movie:24', 'title': 'Mission: Impossible'}\n",
      "{'_id': 'movie:63', 'title': 'Million Dollar Baby'}\n",
      "{'_id': 'movie:87', 'title': 'Memento'}\n",
      "{'_id': 'movie:23', 'title': 'Matrix'}\n",
      "{'_id': 'movie:18', 'title': 'Mary à tout prix'}\n",
      "{'_id': 'movie:67', 'title': 'Marie Antoinette'}\n",
      "{'_id': 'movie:44', 'title': 'Léon'}\n",
      "{'_id': 'movie:60', 'title': 'Lost in Translation'}\n",
      "{'_id': 'movie:81', 'title': 'Les quatre cents coups'}\n",
      "{'_id': 'movie:26', 'title': 'Les pleins pouvoirs'}\n",
      "{'_id': 'movie:35', 'title': 'Les oiseaux'}\n",
      "{'_id': 'movie:20', 'title': 'Les dents de la mer'}\n",
      "{'_id': 'movie:31', 'title': 'Les bronzés font du ski'}\n",
      "{'_id': 'movie:71', 'title': 'Les affranchis'}\n",
      "{'_id': 'movie:21', 'title': 'Le silence des agneaux'}\n",
      "{'_id': 'movie:34', 'title': 'Le retour du Jedi'}\n",
      "{'_id': 'movie:56', 'title': 'Le parrain III'}\n",
      "{'_id': 'movie:55', 'title': 'Le parrain II'}\n",
      "{'_id': 'movie:54', 'title': 'Le parrain'}\n",
      "{'_id': 'movie:28', 'title': 'Le monde perdu'}\n",
      "{'_id': 'movie:16', 'title': 'Le last_name de la rose'}\n",
      "{'_id': 'movie:46', 'title': 'Le grand bleu'}\n",
      "{'_id': 'movie:27', 'title': 'Le gendarme et les extra-terrestres'}\n",
      "{'_id': 'movie:82', 'title': 'Le dernier métro'}\n",
      "{'_id': 'movie:43', 'title': 'Le cinquième élément'}\n",
      "{'_id': 'movie:32', 'title': 'Le bon, la brute et le truand'}\n",
      "{'_id': 'movie:41', 'title': 'La mort aux trousses'}\n",
      "{'_id': 'movie:48', 'title': 'King of New York'}\n",
      "{'_id': 'movie:61', 'title': 'Kill Bill'}\n",
      "{'_id': 'movie:25', 'title': 'Kagemusha'}\n",
      "{'_id': 'movie:42', 'title': \"Jeanne d'Arc\"}\n",
      "{'_id': 'movie:57', 'title': 'Jackie Brown'}\n",
      "{'_id': 'movie:85', 'title': 'Interstellar'}\n",
      "{'_id': 'movie:79', 'title': 'Inglourious Basterds'}\n",
      "{'_id': 'movie:80', 'title': 'Inglourious Basterds'}\n",
      "{'_id': 'movie:86', 'title': 'Inception'}\n",
      "{'_id': 'movie:8', 'title': 'Impitoyable'}\n",
      "{'_id': 'movie:69', 'title': 'Heat'}\n",
      "{'_id': 'movie:22', 'title': 'Godzilla'}\n",
      "{'_id': 'movie:9', 'title': 'Gladiator'}\n",
      "{'_id': 'movie:40', 'title': 'Fenêtre sur cour'}\n",
      "{'_id': 'movie:77', 'title': 'Fargo'}\n",
      "{'_id': 'movie:37', 'title': 'Eyes Wide Shut'}\n",
      "{'_id': 'movie:78', 'title': 'Django unchained'}\n",
      "{'_id': 'movie:51', 'title': 'De bruit et de fureur'}\n",
      "{'_id': 'movie:73', 'title': 'Casino Royale'}\n",
      "{'_id': 'movie:72', 'title': 'Casino'}\n",
      "{'_id': 'movie:10', 'title': 'Blade Runner'}\n",
      "{'_id': 'movie:88', 'title': 'Batman begins'}\n",
      "{'_id': 'movie:53', 'title': 'Bad Lieutenant'}\n",
      "{'_id': 'movie:7', 'title': 'American Beauty'}\n",
      "{'_id': 'movie:2', 'title': 'Alien'}\n",
      "{'_id': 'movie:12', 'title': '58 minutes pour vivre'}\n"
     ]
    }
   ],
   "source": [
    "#Ordre décroissant\n",
    "for movie in movies.find({},{\"title\":1}).sort(\"title\", -1):\n",
    "    print(movie)"
   ]
  },
  {
   "cell_type": "markdown",
   "metadata": {},
   "source": [
    "# \"Critères de recherche simples ? \""
   ]
  },
  {
   "cell_type": "code",
   "execution_count": 13,
   "metadata": {},
   "outputs": [
    {
     "name": "stdout",
     "output_type": "stream",
     "text": [
      "{'genre': 'Science-fiction',\n",
      " 'summary': \"Près d'un vaisseau spatial échoué sur une lointaine planète, des \"\n",
      "            'Terriens en mission découvrent de bien étranges \"oeufs\". Ils en '\n",
      "            \"ramènent un à bord, ignorant qu'ils viennent d'introduire parmi \"\n",
      "            'eux un huitième passager particulièrement féroce et meurtrier. ',\n",
      " 'title': 'Alien'}\n"
     ]
    }
   ],
   "source": [
    "#Q : Afficher les infos du film dont l'id est 2 ? Se limiter aux infos relatives au titre, au genre et au summary ?\n",
    "\n",
    "for movie in movies.find({\"_id\":\"movie:2\"},{\"_id\":0,\"title\":1,\"genre\":1,\"summary\":1}):\n",
    "    pprint(movie)"
   ]
  },
  {
   "cell_type": "code",
   "execution_count": 17,
   "metadata": {},
   "outputs": [
    {
     "name": "stdout",
     "output_type": "stream",
     "text": [
      "2\n",
      "{'actors': [{'_id': 'artist:75', 'role': 'Nathalie Morin'},\n",
      "            {'_id': 'artist:76', 'role': 'Christiane'},\n",
      "            {'_id': 'artist:84', 'role': 'Jean-Claude Dus'},\n",
      "            {'_id': 'artist:85', 'role': 'Jérôme'},\n",
      "            {'_id': 'artist:86', 'role': 'Popeye'}],\n",
      " 'title': 'Les bronzés font du ski',\n",
      " 'year': 1979}\n",
      "{'actors': [{'_id': 'artist:5', 'role': 'Ripley'}],\n",
      " 'title': 'Alien',\n",
      " 'year': 1979}\n"
     ]
    },
    {
     "name": "stderr",
     "output_type": "stream",
     "text": [
      "c:\\program files (x86)\\python37-32\\lib\\site-packages\\ipykernel_launcher.py:3: DeprecationWarning: count is deprecated. Use Collection.count_documents instead.\n",
      "  This is separate from the ipykernel package so we can avoid doing imports until\n"
     ]
    }
   ],
   "source": [
    "#Q : Combien de films ont été produit en en 1979 et les afficher en se limitant aux infos relatives au titre, à l'année et à la liste des acteurs suivant un ordre alphabétique décroissant sur le titre.\n",
    "\n",
    "print(movies.find({\"year\":1979}).count())\n",
    "for movie in movies.find({\"year\":1979},{\"_id\":0,\"title\":1,\"year\":1,\"actors\":1}).sort(\"title\", -1):\n",
    "    pprint(movie)\n"
   ]
  },
  {
   "cell_type": "code",
   "execution_count": 21,
   "metadata": {},
   "outputs": [
    {
     "name": "stdout",
     "output_type": "stream",
     "text": [
      "{'actors': [{'_id': 'artist:5', 'role': 'Ripley'}],\n",
      " 'country': 'USA',\n",
      " 'director': {'_id': 'artist:4'},\n",
      " 'genre': 'Science-fiction',\n",
      " 'title': 'Alien',\n",
      " 'year': 1979}\n"
     ]
    }
   ],
   "source": [
    "#Q : Afficher les infos sur le film dont le genre est \"Science-fiction\" et produit en 1979 sans préciser l'_id et le summary ?\n",
    "\n",
    "for movie in movies.find({\"genre\":\"Science-fiction\",\"year\":1979},{\"_id\":0,\"summary\":0}):\n",
    "    pprint(movie)"
   ]
  },
  {
   "cell_type": "code",
   "execution_count": 26,
   "metadata": {},
   "outputs": [
    {
     "data": {
      "text/plain": [
       "{'_id': 'movie:2',\n",
       " 'title': 'Alien',\n",
       " 'year': 1979,\n",
       " 'genre': 'Science-fiction',\n",
       " 'summary': 'Près d\\'un vaisseau spatial échoué sur une lointaine planète, des Terriens en mission découvrent de bien étranges \"oeufs\". Ils en ramènent un à bord, ignorant qu\\'ils viennent d\\'introduire parmi eux un huitième passager particulièrement féroce et meurtrier. ',\n",
       " 'country': 'USA',\n",
       " 'director': {'_id': 'artist:4'},\n",
       " 'actors': [{'_id': 'artist:5', 'role': 'Ripley'}]}"
      ]
     },
     "execution_count": 26,
     "metadata": {},
     "output_type": "execute_result"
    }
   ],
   "source": [
    "#Q : Corriger ces Qry ?\n",
    "\n",
    "#db.movies.find({\"titre\": \"Alien\"})\n",
    "#db.movies.find({\"title\": \"alien\"})\n",
    "\n",
    "#commande mongo :\n",
    "# db.movies.findOne({\"title\":\"Alien\"})\n",
    "\n",
    "movies.find_one({\"title\": \"Alien\"})"
   ]
  },
  {
   "cell_type": "markdown",
   "metadata": {},
   "source": [
    "# Critères de recherche complexes ? "
   ]
  },
  {
   "cell_type": "code",
   "execution_count": 11,
   "metadata": {},
   "outputs": [
    {
     "name": "stdout",
     "output_type": "stream",
     "text": [
      "3\n",
      "{'_id': 'movie:9',\n",
      " 'actors': [{'_id': 'artist:23', 'role': 'Maximus'},\n",
      "            {'_id': 'artist:147', 'role': 'Commode'},\n",
      "            {'_id': 'artist:148', 'role': 'Lucilla'},\n",
      "            {'_id': 'artist:149', 'role': 'Marc Aurele'}],\n",
      " 'director': {'_id': 'artist:4'},\n",
      " 'title': 'Gladiator',\n",
      " 'year': 2000}\n",
      "{'_id': 'movie:10',\n",
      " 'actors': [{'_id': 'artist:24', 'role': 'Deckard'},\n",
      "            {'_id': 'artist:25', 'role': 'Batty'}],\n",
      " 'director': {'_id': 'artist:4'},\n",
      " 'title': 'Blade Runner',\n",
      " 'year': 1982}\n",
      "{'_id': 'movie:2',\n",
      " 'actors': [{'_id': 'artist:5', 'role': 'Ripley'}],\n",
      " 'director': {'_id': 'artist:4'},\n",
      " 'title': 'Alien',\n",
      " 'year': 1979}\n"
     ]
    },
    {
     "name": "stderr",
     "output_type": "stream",
     "text": [
      "c:\\program files (x86)\\python37-32\\lib\\site-packages\\ipykernel_launcher.py:3: DeprecationWarning: count is deprecated. Use Collection.count_documents instead.\n",
      "  This is separate from the ipykernel package so we can avoid doing imports until\n"
     ]
    }
   ],
   "source": [
    "# Q : Combien de films produits par le director dont l'id est 4 et les afficher de plus récent au moins récent (sans le résumé ni le country ni le genre) ?\n",
    "\n",
    "print(movies.find({ \"director._id\":\"artist:4\"},{\"summary\":0,\"genre\":0,\"country\":0}).count())\n",
    "for movie in movies.find({ \"director._id\":\"artist:4\"},{\"summary\":0,\"genre\":0,\"country\":0}).sort(\"year\", -1):\n",
    "    pprint(movie)\n"
   ]
  },
  {
   "cell_type": "code",
   "execution_count": 10,
   "metadata": {},
   "outputs": [
    {
     "name": "stdout",
     "output_type": "stream",
     "text": [
      "1\n",
      "{'_id': 'movie:9',\n",
      " 'actors': [{'_id': 'artist:23', 'role': 'Maximus'},\n",
      "            {'_id': 'artist:147', 'role': 'Commode'},\n",
      "            {'_id': 'artist:148', 'role': 'Lucilla'},\n",
      "            {'_id': 'artist:149', 'role': 'Marc Aurele'}],\n",
      " 'director': {'_id': 'artist:4'},\n",
      " 'title': 'Gladiator',\n",
      " 'year': 2000}\n"
     ]
    },
    {
     "name": "stderr",
     "output_type": "stream",
     "text": [
      "c:\\program files (x86)\\python37-32\\lib\\site-packages\\ipykernel_launcher.py:4: DeprecationWarning: count is deprecated. Use Collection.count_documents instead.\n",
      "  after removing the cwd from sys.path.\n"
     ]
    }
   ],
   "source": [
    "#Q : Combien de films produits par le director qui porte l'id 4 et dont l'un des acteurs a joué le rôle de Maximus et les afficher sans le résumé ni le country ni le genre ?\n",
    "\n",
    "\n",
    "print(movies.find({\"director._id\":\"artist:4\",  \"actors.role\":{ \"$eq\": \"Maximus\" }}).count())\n",
    "for movie in movies.find({\"director._id\":\"artist:4\",  \"actors.role\":{ \"$eq\": \"Maximus\" }},{\"summary\":0,\"genre\":0,\"country\":0}):\n",
    "    pprint(movie)\n"
   ]
  },
  {
   "cell_type": "code",
   "execution_count": 75,
   "metadata": {},
   "outputs": [
    {
     "name": "stdout",
     "output_type": "stream",
     "text": [
      "{'_id': 'movie:9',\n",
      " 'actors': [{'_id': 'artist:23', 'role': 'Maximus'},\n",
      "            {'_id': 'artist:147', 'role': 'Commode'},\n",
      "            {'_id': 'artist:148', 'role': 'Lucilla'},\n",
      "            {'_id': 'artist:149', 'role': 'Marc Aurele'}],\n",
      " 'director': {'_id': 'artist:4'},\n",
      " 'title': 'Gladiator',\n",
      " 'year': 2000}\n"
     ]
    }
   ],
   "source": [
    "#Q : Ecrire la dernière Qry en déclarant des variables ?\n",
    "    \n",
    "myQry = {\"director._id\":\"artist:4\",  \"actors.role\":{ \"$eq\": \"Maximus\" } }\n",
    "\n",
    "myDoc = movies.find(myQry,{\"summary\":0,\"genre\":0,\"country\":0})\n",
    "         \n",
    "for movie in myDoc:\n",
    "    pprint(movie)\n",
    "         \n",
    "        "
   ]
  },
  {
   "cell_type": "markdown",
   "metadata": {},
   "source": [
    "# Critère de recherche par intervalles  "
   ]
  },
  {
   "cell_type": "code",
   "execution_count": 78,
   "metadata": {},
   "outputs": [
    {
     "name": "stdout",
     "output_type": "stream",
     "text": [
      "{'title': 'Gladiator', 'year': 2000}\n",
      "{'title': 'The Matrix reloaded', 'year': 2003}\n",
      "{'title': 'Spider-Man', 'year': 2002}\n",
      "{'title': 'The Matrix Revolutions', 'year': 2003}\n",
      "{'title': 'Stalingrad', 'year': 2001}\n",
      "{'title': 'Lost in Translation', 'year': 2003}\n",
      "{'title': 'Kill Bill', 'year': 2003}\n",
      "{'title': 'Memento', 'year': 2000}\n"
     ]
    }
   ],
   "source": [
    "#Q : Ts les films produits après 2000 compris et avant 2005 exlus (dans un ordre chronologique) en se limitant au titre du film et son année de production ?\n",
    "\n",
    "for movie in movies.find({ \"year\": {\"$gte\": 2000, \"$lt\": 2005} },{\"_id\":0,\"title\":1,\"year\":1}):\n",
    "    pprint(movie)"
   ]
  },
  {
   "cell_type": "markdown",
   "metadata": {},
   "source": [
    "# Opérateurs booléens"
   ]
  },
  {
   "cell_type": "code",
   "execution_count": 52,
   "metadata": {},
   "outputs": [
    {
     "name": "stdout",
     "output_type": "stream",
     "text": [
      "{'_id': 'movie:9',\n",
      " 'actors': [{'_id': 'artist:23', 'role': 'Maximus'},\n",
      "            {'_id': 'artist:147', 'role': 'Commode'},\n",
      "            {'_id': 'artist:148', 'role': 'Lucilla'},\n",
      "            {'_id': 'artist:149', 'role': 'Marc Aurele'}],\n",
      " 'country': 'USA',\n",
      " 'director': {'_id': 'artist:4'},\n",
      " 'genre': 'drama',\n",
      " 'summary': 'Le général romain Maximus est le plus fidèle                    '\n",
      "            \"soutien de l'empereur Marc Aurèle, qu'il a                    \"\n",
      "            'conduit de victoire en victoire avec une                    '\n",
      "            'bravoure et un dévouement exemplaires.                    Jaloux '\n",
      "            'du prestige de Maximus, et plus                    encore de '\n",
      "            \"l'amour que lui voue l'empereur,                    le fils de \"\n",
      "            \"Marc-Aurèle, Commode, s'arroge                    brutalement le \"\n",
      "            \"pouvoir, puis ordonne                    l'arrestation du général \"\n",
      "            'et son exécution.                    Maximus échappe à ses '\n",
      "            'assassins mais ne peut                    empêcher le massacre de '\n",
      "            'sa famille. Capturé                    par un marchand '\n",
      "            \"d'esclaves, il devient                    gladiateur et prépare \"\n",
      "            'sa vengeance.',\n",
      " 'title': 'Gladiator',\n",
      " 'year': 2000}\n",
      "{'_id': 'movie:5',\n",
      " 'actors': [{'_id': 'artist:11', 'role': 'Sean Archer/Castor Troy'},\n",
      "            {'_id': 'artist:12', 'role': 'Castor Troy/Sean Archer'}],\n",
      " 'country': 'USA',\n",
      " 'director': {'_id': 'artist:10'},\n",
      " 'genre': 'Action',\n",
      " 'summary': \"Directeur d'une unité anti-terroriste, Sean Archer recherche \"\n",
      "            'Castor Troy, un criminel responsable de la mort de son fils six '\n",
      "            \"ans plus tôt. Il parvient à l'arrêter mais apprend que Troy a \"\n",
      "            'caché une bombe au Palais des Congrès de Los Angeles. Seul le '\n",
      "            \"frère de Troy peut la désamorcer et, pour l'approcher, Archer se \"\n",
      "            'fait greffer le visage de Troy. ',\n",
      " 'title': 'Volte/Face',\n",
      " 'year': 1997}\n",
      "{'_id': 'movie:3',\n",
      " 'actors': [{'_id': 'artist:109', 'role': 'Rose DeWitt Bukater'},\n",
      "            {'_id': 'artist:110', 'role': 'Jack Dawson'}],\n",
      " 'country': 'USA',\n",
      " 'director': {'_id': 'artist:6'},\n",
      " 'genre': 'drama',\n",
      " 'summary': 'Conduite par Brock Lovett, une expédition américaine fouillant '\n",
      "            \"l'épave du Titanic remonte à la surface le croquis d'une femme \"\n",
      "            'nue. Alertée par les médias la dame en question, Rose DeWitt '\n",
      "            \"Bukater, aujourd'hui centenaire, rejoint les lieux du naufrage, \"\n",
      "            \"d'où elle entreprend de conter le récit de son fascinant, étrange \"\n",
      "            'et tragique voyage... ',\n",
      " 'title': 'Titanic',\n",
      " 'year': 1997}\n",
      "{'_id': 'movie:28',\n",
      " 'actors': [{'_id': 'artist:57', 'role': 'Dr. Ian Malcolm'}],\n",
      " 'country': 'USA',\n",
      " 'director': {'_id': 'artist:45'},\n",
      " 'genre': 'Horreur',\n",
      " 'summary': None,\n",
      " 'title': 'Le monde perdu',\n",
      " 'year': 1997}\n",
      "{'_id': 'movie:26',\n",
      " 'actors': [{'_id': 'artist:20', 'role': 'Luther Whitney'},\n",
      "            {'_id': 'artist:21', 'role': 'Le président Richmond'},\n",
      "            {'_id': 'artist:69', 'role': 'Seth Frank'}],\n",
      " 'country': 'USA',\n",
      " 'director': {'_id': 'artist:20'},\n",
      " 'genre': 'crime',\n",
      " 'summary': \"Luther Whitney est l'as des cambrioleurs. Occupé à vider le \"\n",
      "            \"coffre de l'influent Walter Sullivan, il est témoin d'un meurtre \"\n",
      "            'sadique impliquant le Président des Etats-Unis et les services '\n",
      "            \"secrets. Soupçonné par la police d'en être l'auteur, il se \"\n",
      "            \"retrouve également traqué par les tueurs, qui ont compris qu'ils \"\n",
      "            'ont été observés.',\n",
      " 'title': 'Les pleins pouvoirs',\n",
      " 'year': 1997}\n",
      "{'_id': 'movie:43',\n",
      " 'actors': [{'_id': 'artist:27', 'role': 'Major Korben Dalla'},\n",
      "            {'_id': 'artist:112', 'role': 'Leeloo'},\n",
      "            {'_id': 'artist:116', 'role': 'Jean-Baptiste Emmanuel Zorg'},\n",
      "            {'_id': 'artist:117', 'role': 'Vito Cornelius'}],\n",
      " 'country': 'FR',\n",
      " 'director': {'_id': 'artist:111'},\n",
      " 'genre': 'Science-fiction',\n",
      " 'summary': 'Au XXIIIème siècle, dans un univers étrange et coloré, où tout '\n",
      "            'espoir de survie est impossible sans la découverte du Cinquième '\n",
      "            'Elément, un héros peu ordinaire affronte le mal pour sauver '\n",
      "            \"l'humanité. \",\n",
      " 'title': 'Le cinquième élément',\n",
      " 'year': 1997}\n",
      "{'_id': 'movie:57',\n",
      " 'actors': [{'_id': 'artist:167', 'role': 'Luis Gara'},\n",
      "            {'_id': 'artist:168', 'role': 'Jackie Brown'},\n",
      "            {'_id': 'artist:169', 'role': 'Melanie'},\n",
      "            {'_id': 'artist:170', 'role': 'Ray Nicolette'},\n",
      "            {'_id': 'artist:212', 'role': 'Ordell Robbie'}],\n",
      " 'country': 'USA',\n",
      " 'director': {'_id': 'artist:37'},\n",
      " 'genre': 'crime',\n",
      " 'summary': \"Jackie Brown, hôtesse de l'air, arrondit ses fins de mois en \"\n",
      "            \"convoyant de l'argent liquide pour le compte d'un trafiquant \"\n",
      "            \"d'armes, Ordell Robbie. Un jour, un agent federal et un policier \"\n",
      "            \"de Los Angeles la cueillent à l'aéroport. Ils comptent sur elle \"\n",
      "            'pour faire tomber le trafiquant. Jackie échafaude alors un plan '\n",
      "            \"audacieux pour doubler tout le monde lors d'un prochain transfert \"\n",
      "            'qui porte sur la modeste somme de cinq cent mille dollars. Mais '\n",
      "            \"il lui faudra compter avec les complices d'Ordell, qui ont des \"\n",
      "            'méthodes plutôt expéditives.',\n",
      " 'title': 'Jackie Brown',\n",
      " 'year': 1997}\n"
     ]
    }
   ],
   "source": [
    "#Q : Lister les films parus en 1997 ou avec l'acteur id = 147 ?\n",
    "\n",
    "# commande mongo\n",
    "# db.movies.find({$or : [{\"year\": 1997}, {\"actors._id\": \"artist:147\"}] })\n",
    "\n",
    "for movie in movies.find({\"$or\" : [{\"year\": 1997}, {\"actors._id\": \"artist:147\"}]}):\n",
    "    pprint(movie)"
   ]
  },
  {
   "cell_type": "markdown",
   "metadata": {},
   "source": [
    "# Opérateurs ensemblistes : in, not in, any, all, exists"
   ]
  },
  {
   "cell_type": "code",
   "execution_count": 9,
   "metadata": {},
   "outputs": [
    {
     "name": "stderr",
     "output_type": "stream",
     "text": [
      "c:\\program files (x86)\\python37-32\\lib\\site-packages\\ipykernel_launcher.py:3: DeprecationWarning: count is deprecated. Use Collection.count_documents instead.\n",
      "  This is separate from the ipykernel package so we can avoid doing imports until\n"
     ]
    },
    {
     "name": "stdout",
     "output_type": "stream",
     "text": [
      "4\n",
      "{'actors': [{'_id': 'artist:1', 'role': 'Mary Corleone'},\n",
      "            {'_id': 'artist:176', 'role': 'Michael Corleone'},\n",
      "            {'_id': 'artist:183', 'role': 'Kay Adams'},\n",
      "            {'_id': 'artist:186', 'role': 'Vincent Mancini'}],\n",
      " 'title': 'Le parrain III'}\n",
      "{'actors': [{'_id': 'artist:37', 'role': 'Mr. Brown'},\n",
      "            {'_id': 'artist:98', 'role': 'Mr. White/Larry'},\n",
      "            {'_id': 'artist:99', 'role': 'Freddy Newendyke/Mr. Orange'},\n",
      "            {'_id': 'artist:100', 'role': 'Nice Guy Eddie'},\n",
      "            {'_id': 'artist:215', 'role': 'Mr Blonde'},\n",
      "            {'_id': 'artist:217', 'role': 'Mr Pink'},\n",
      "            {'_id': 'artist:218', 'role': 'Mr Blue'}],\n",
      " 'title': 'Reservoir dogs'}\n",
      "{'actors': [{'_id': 'artist:98', 'role': 'Le lieutenant'}],\n",
      " 'title': 'Bad Lieutenant'}\n",
      "{'actors': [{'_id': 'artist:11', 'role': 'Vincent Vega'},\n",
      "            {'_id': 'artist:27', 'role': 'Butch Coolidge'},\n",
      "            {'_id': 'artist:37', 'role': 'Jimmy Dimmick'},\n",
      "            {'_id': 'artist:38', 'role': 'Jules Winnfield'},\n",
      "            {'_id': 'artist:39', 'role': 'Jody'},\n",
      "            {'_id': 'artist:40', 'role': 'Mia Wallace'},\n",
      "            {'_id': 'artist:97', 'role': 'Capt. Koons'},\n",
      "            {'_id': 'artist:98', 'role': 'Winston \"The Wolf\" Wolfe'},\n",
      "            {'_id': 'artist:99', 'role': 'Pumpkin (Ringo)'}],\n",
      " 'title': 'Pulp fiction'}\n"
     ]
    }
   ],
   "source": [
    "# Q : Combien de films dans lesquels ont joué au moins un des artistes suivants : 34, 98 et 1 et afficher leur titre et la liste des actors ; sens du tri : chronologique et alphabétique croissant sur les noms des artistes ?\n",
    "\n",
    "print(movies.find( { \"actors._id\": { \"$in\": [ \"artist:1\", \"artist:98\", \"artist:34\" ] } }).count())\n",
    "for movie in movies.find( { \"actors._id\": { \"$in\": [ \"artist:1\", \"artist:98\", \"artist:34\" ] } },\n",
    "                         {\"_id\":0,\"title\":1,\"actors\":1}).sort([(\"year\",1),(\"actors\",1)]):\n",
    "    pprint(movie)"
   ]
  },
  {
   "cell_type": "code",
   "execution_count": 87,
   "metadata": {},
   "outputs": [
    {
     "name": "stdout",
     "output_type": "stream",
     "text": [
      "{'actors': [{'_id': 'artist:23', 'role': 'Maximus'},\n",
      "            {'_id': 'artist:147', 'role': 'Commode'},\n",
      "            {'_id': 'artist:148', 'role': 'Lucilla'},\n",
      "            {'_id': 'artist:149', 'role': 'Marc Aurele'}],\n",
      " 'country': 'USA',\n",
      " 'director': {'_id': 'artist:4'},\n",
      " 'genre': 'drama',\n",
      " 'summary': 'Le général romain Maximus est le plus fidèle                    '\n",
      "            \"soutien de l'empereur Marc Aurèle, qu'il a                    \"\n",
      "            'conduit de victoire en victoire avec une                    '\n",
      "            'bravoure et un dévouement exemplaires.                    Jaloux '\n",
      "            'du prestige de Maximus, et plus                    encore de '\n",
      "            \"l'amour que lui voue l'empereur,                    le fils de \"\n",
      "            \"Marc-Aurèle, Commode, s'arroge                    brutalement le \"\n",
      "            \"pouvoir, puis ordonne                    l'arrestation du général \"\n",
      "            'et son exécution.                    Maximus échappe à ses '\n",
      "            'assassins mais ne peut                    empêcher le massacre de '\n",
      "            'sa famille. Capturé                    par un marchand '\n",
      "            \"d'esclaves, il devient                    gladiateur et prépare \"\n",
      "            'sa vengeance.',\n",
      " 'title': 'Gladiator',\n",
      " 'year': 2000}\n"
     ]
    }
   ],
   "source": [
    "# Q : Chercher les films dans lesquels ont joué ensemble les actors 23 et 147 ?\n",
    "\n",
    "for movie in movies.find( { \"actors._id\": { \"$all\": [ \"artist:23\", \"artist:147\" ] } },\n",
    "                         {\"_id\":0}):\n",
    "    pprint(movie)"
   ]
  },
  {
   "cell_type": "code",
   "execution_count": 3,
   "metadata": {},
   "outputs": [
    {
     "name": "stdout",
     "output_type": "stream",
     "text": [
      "84\n",
      "{'actors': [], 'title': 'Nous trois ou rien'}\n",
      "{'actors': [{'_id': 'artist:267', 'role': 'Cooper'},\n",
      "            {'_id': 'artist:268', 'role': '   Brand '},\n",
      "            {'_id': 'artist:269', 'role': 'Professor Brand'}],\n",
      " 'title': 'Interstellar'}\n",
      "{'actors': [{'_id': 'artist:110', 'role': 'Calvin Candie'},\n",
      "            {'_id': 'artist:212', 'role': 'Stephen'},\n",
      "            {'_id': 'artist:255', 'role': 'Django'},\n",
      "            {'_id': 'artist:256', 'role': 'Dr. King Schultz'}],\n",
      " 'title': 'Django unchained'}\n",
      "{'actors': [{'_id': 'artist:22', 'role': 'Lucius Fox'},\n",
      "            {'_id': 'artist:116', 'role': 'Commissioner Gordon'},\n",
      "            {'_id': 'artist:268', 'role': 'Selina'},\n",
      "            {'_id': 'artist:269', 'role': 'Alfred'},\n",
      "            {'_id': 'artist:271', 'role': 'Miranda'},\n",
      "            {'_id': 'artist:274', 'role': 'Bruce Wayne / Batman'}],\n",
      " 'title': 'The Dark Knight Rises'}\n",
      "{'actors': [{'_id': 'artist:110', 'role': 'Cobb'},\n",
      "            {'_id': 'artist:269', 'role': 'Miles'},\n",
      "            {'_id': 'artist:270', 'role': 'Ariadne'},\n",
      "            {'_id': 'artist:271', 'role': 'Mal'}],\n",
      " 'title': 'Inception'}\n",
      "{'actors': [{'_id': 'artist:32', 'role': 'Lt. Aldo Raine'},\n",
      "            {'_id': 'artist:256', 'role': 'Col. Hans Landa'},\n",
      "            {'_id': 'artist:257', 'role': 'Shoshana'},\n",
      "            {'_id': 'artist:258', 'role': 'Lt. Archie Hicox'}],\n",
      " 'title': 'Inglourious Basterds'}\n",
      "{'actors': [{'_id': 'artist:279', 'role': 'Malik El Djebena '},\n",
      "            {'_id': 'artist:280', 'role': 'César Luciani'}],\n",
      " 'title': 'Un prophète'}\n",
      "{'actors': [{'_id': 'artist:22', 'role': 'Lucius Fox'},\n",
      "            {'_id': 'artist:116', 'role': 'Gordon'},\n",
      "            {'_id': 'artist:269', 'role': 'Alfred'},\n",
      "            {'_id': 'artist:274', 'role': 'Bruce Wayne / Batman'},\n",
      "            {'_id': 'artist:276', 'role': 'Joker'},\n",
      "            {'_id': 'artist:277', 'role': 'Rachel'}],\n",
      " 'title': 'The Dark Knight'}\n",
      "{'actors': [{'_id': 'artist:250', 'role': 'Anton Chigurh'},\n",
      "            {'_id': 'artist:252', 'role': 'Ed Tom Bell'},\n",
      "            {'_id': 'artist:253', 'role': 'Llewelyn Moss'}],\n",
      " 'title': 'No country for old men'}\n",
      "{'actors': [{'_id': 'artist:247', 'role': 'James Bond'},\n",
      "            {'_id': 'artist:248', 'role': 'Vesper Lynd'}],\n",
      " 'title': 'Casino Royale'}\n",
      "{'actors': [{'_id': 'artist:2', 'role': 'Marie Antoinette'}],\n",
      " 'title': 'Marie Antoinette'}\n",
      "{'actors': [{'_id': 'artist:22', 'role': 'Lucius Fox '},\n",
      "            {'_id': 'artist:116', 'role': ' Jim Gordon '},\n",
      "            {'_id': 'artist:269', 'role': 'Alfred'},\n",
      "            {'_id': 'artist:274', 'role': ' Bruce Wayne / Batman '},\n",
      "            {'_id': 'artist:275', 'role': 'Ducard'}],\n",
      " 'title': 'Batman begins'}\n",
      "{'actors': [{'_id': 'artist:20', 'role': 'Frankie Dunn'},\n",
      "            {'_id': 'artist:22', 'role': 'Eddie Scrap-Iron Dupris'},\n",
      "            {'_id': 'artist:224', 'role': 'Maggie Fitzerald'}],\n",
      " 'title': 'Million Dollar Baby'}\n",
      "{'actors': [{'_id': 'artist:40', 'role': 'La mariée, alias \"Black Mamba\"'},\n",
      "            {'_id': 'artist:213', 'role': 'O-Ren Ishii'},\n",
      "            {'_id': 'artist:214', 'role': 'Bill'},\n",
      "            {'_id': 'artist:215', 'role': 'Budd / Sidewinder'},\n",
      "            {'_id': 'artist:216', 'role': 'Elle Driver'}],\n",
      " 'title': 'Kill Bill'}\n",
      "{'actors': [{'_id': 'artist:173', 'role': 'Bob Harris'},\n",
      "            {'_id': 'artist:174', 'role': 'Charlotte'},\n",
      "            {'_id': 'artist:175', 'role': 'John'},\n",
      "            {'_id': 'artist:176', 'role': 'Kelly'},\n",
      "            {'_id': 'artist:177', 'role': 'Patron Nightclub'}],\n",
      " 'title': 'Lost in Translation'}\n",
      "{'actors': [{'_id': 'artist:62', 'role': 'Neo'},\n",
      "            {'_id': 'artist:63', 'role': 'Morpheus'},\n",
      "            {'_id': 'artist:134', 'role': 'Agent Smith'},\n",
      "            {'_id': 'artist:136', 'role': 'Trinity'},\n",
      "            {'_id': 'artist:137', 'role': \"L'Oracle\"}],\n",
      " 'title': 'The Matrix Revolutions'}\n",
      "{'actors': [{'_id': 'artist:62', 'role': 'Neo'},\n",
      "            {'_id': 'artist:63', 'role': 'Morpheus'},\n",
      "            {'_id': 'artist:210', 'role': 'Trinity'},\n",
      "            {'_id': 'artist:211', 'role': 'Agent Smith'}],\n",
      " 'title': 'The Matrix reloaded'}\n",
      "{'actors': [{'_id': 'artist:124', 'role': 'Spider-Man'},\n",
      "            {'_id': 'artist:125', 'role': 'Norman Osborn'},\n",
      "            {'_id': 'artist:126', 'role': 'Mary Jane Watson'},\n",
      "            {'_id': 'artist:127', 'role': 'Oncle Ben'},\n",
      "            {'_id': 'artist:128', 'role': 'Tante May'}],\n",
      " 'title': 'Spider-Man'}\n",
      "{'actors': [{'_id': 'artist:182', 'role': 'Vassili Zaïtzev'},\n",
      "            {'_id': 'artist:183', 'role': 'major König'}],\n",
      " 'title': 'Stalingrad'}\n",
      "{'actors': [{'_id': 'artist:23', 'role': 'Maximus'},\n",
      "            {'_id': 'artist:147', 'role': 'Commode'},\n",
      "            {'_id': 'artist:148', 'role': 'Lucilla'},\n",
      "            {'_id': 'artist:149', 'role': 'Marc Aurele'}],\n",
      " 'title': 'Gladiator'}\n",
      "{'actors': [{'_id': 'artist:272', 'role': 'Leonard'},\n",
      "            {'_id': 'artist:273', 'role': 'Natalie'}],\n",
      " 'title': 'Memento'}\n",
      "{'actors': [{'_id': 'artist:18', 'role': 'Lester Burnham'},\n",
      "            {'_id': 'artist:19', 'role': 'Carolyn Burnham'}],\n",
      " 'title': 'American Beauty'}\n",
      "{'actors': [{'_id': 'artist:65', 'role': 'Docteur William \"Bill\" Harford'},\n",
      "            {'_id': 'artist:102', 'role': 'Alice Harford'}],\n",
      " 'title': 'Eyes Wide Shut'}\n",
      "{'actors': [{'_id': 'artist:80', 'role': None},\n",
      "            {'_id': 'artist:112', 'role': \"Jeanne d'Arc\"},\n",
      "            {'_id': 'artist:113', 'role': \"Yolande d'Aragon\"},\n",
      "            {'_id': 'artist:114', 'role': 'Charles VII'},\n",
      "            {'_id': 'artist:115', 'role': 'Dunois'}],\n",
      " 'title': \"Jeanne d'Arc\"}\n",
      "{'actors': [{'_id': 'artist:62', 'role': 'Neo'},\n",
      "            {'_id': 'artist:63', 'role': 'Morpheus'}],\n",
      " 'title': 'Matrix'}\n",
      "{'actors': [{'_id': 'artist:27', 'role': 'Malcom Crowe'},\n",
      "            {'_id': 'artist:171', 'role': 'Cole Sear'}],\n",
      " 'title': 'Sixième sens'}\n",
      "{'actors': [{'_id': 'artist:14', 'role': 'Constable Ichabod Crane'},\n",
      "            {'_id': 'artist:96', 'role': 'Katrina Anne Van Tassel'},\n",
      "            {'_id': 'artist:97', 'role': 'Le cavalier'}],\n",
      " 'title': 'Sleepy Hollow'}\n",
      "{'actors': [{'_id': 'artist:59', 'role': 'Dr. Nikos Tatopoulos'},\n",
      "            {'_id': 'artist:60', 'role': 'Philippe Roaché'}],\n",
      " 'title': 'Godzilla'}\n",
      "{'actors': [{'_id': 'artist:42', 'role': 'Mary Jensen Matthews'},\n",
      "            {'_id': 'artist:43', 'role': 'Pat Healy'}],\n",
      " 'title': 'Mary à tout prix'}\n",
      "{'actors': [{'_id': 'artist:167', 'role': 'Luis Gara'},\n",
      "            {'_id': 'artist:168', 'role': 'Jackie Brown'},\n",
      "            {'_id': 'artist:169', 'role': 'Melanie'},\n",
      "            {'_id': 'artist:170', 'role': 'Ray Nicolette'},\n",
      "            {'_id': 'artist:212', 'role': 'Ordell Robbie'}],\n",
      " 'title': 'Jackie Brown'}\n",
      "{'actors': [{'_id': 'artist:27', 'role': 'Major Korben Dalla'},\n",
      "            {'_id': 'artist:112', 'role': 'Leeloo'},\n",
      "            {'_id': 'artist:116', 'role': 'Jean-Baptiste Emmanuel Zorg'},\n",
      "            {'_id': 'artist:117', 'role': 'Vito Cornelius'}],\n",
      " 'title': 'Le cinquième élément'}\n",
      "{'actors': [{'_id': 'artist:57', 'role': 'Dr. Ian Malcolm'}],\n",
      " 'title': 'Le monde perdu'}\n",
      "{'actors': [{'_id': 'artist:20', 'role': 'Luther Whitney'},\n",
      "            {'_id': 'artist:21', 'role': 'Le président Richmond'},\n",
      "            {'_id': 'artist:69', 'role': 'Seth Frank'}],\n",
      " 'title': 'Les pleins pouvoirs'}\n",
      "{'actors': [{'_id': 'artist:109', 'role': 'Rose DeWitt Bukater'},\n",
      "            {'_id': 'artist:110', 'role': 'Jack Dawson'}],\n",
      " 'title': 'Titanic'}\n",
      "{'actors': [{'_id': 'artist:11', 'role': 'Sean Archer/Castor Troy'},\n",
      "            {'_id': 'artist:12', 'role': 'Castor Troy/Sean Archer'}],\n",
      " 'title': 'Volte/Face'}\n",
      "{'actors': [{'_id': 'artist:217', 'role': 'Carl Showalter'},\n",
      "            {'_id': 'artist:254', 'role': ' Jerry Lundegaard '}],\n",
      " 'title': 'Fargo'}\n",
      "{'actors': [{'_id': 'artist:60', 'role': 'Franz Krieger'},\n",
      "            {'_id': 'artist:65', 'role': 'Ethan Hunt'},\n",
      "            {'_id': 'artist:66', 'role': 'Jim Phelps'},\n",
      "            {'_id': 'artist:67', 'role': 'Claire Phelps'}],\n",
      " 'title': 'Mission: Impossible'}\n",
      "{'actors': [{'_id': 'artist:167', 'role': \"Sam 'Ace' Rothstein\"},\n",
      "            {'_id': 'artist:243', 'role': '  Nicky Santoro '},\n",
      "            {'_id': 'artist:245', 'role': 'Ginger McKenna'}],\n",
      " 'title': 'Casino'}\n",
      "{'actors': [{'_id': 'artist:167', 'role': None}], 'title': 'Heat'}\n",
      "{'actors': [{'_id': 'artist:18', 'role': 'Doe'},\n",
      "            {'_id': 'artist:22', 'role': 'Somerset'},\n",
      "            {'_id': 'artist:32', 'role': 'Mills'}],\n",
      " 'title': 'Seven'}\n",
      "{'actors': [{'_id': 'artist:27', 'role': 'Cole'}], 'title': 'Twelve Monkeys'}\n",
      "{'actors': [{'_id': 'artist:27', 'role': 'McClane'},\n",
      "            {'_id': 'artist:38', 'role': 'Zeus Carver'},\n",
      "            {'_id': 'artist:169', 'role': 'Simon Gruber'}],\n",
      " 'title': 'Une journée en enfer'}\n",
      "{'actors': [{'_id': 'artist:18', 'role': 'Roger \"Verbal\" Kint'},\n",
      "            {'_id': 'artist:143', 'role': 'Micheal McManus'},\n",
      "            {'_id': 'artist:144', 'role': 'Dean Keaton'},\n",
      "            {'_id': 'artist:145', 'role': 'Fred Fenster'},\n",
      "            {'_id': 'artist:146', 'role': 'Todd Hockney'}],\n",
      " 'title': 'Usual suspects'}\n",
      "{'actors': [{'_id': 'artist:60', 'role': 'Léon'},\n",
      "            {'_id': 'artist:116', 'role': 'Norman Stansfield'},\n",
      "            {'_id': 'artist:118', 'role': 'Mathilda'}],\n",
      " 'title': 'Léon'}\n",
      "{'actors': [{'_id': 'artist:20', 'role': 'William Munny'},\n",
      "            {'_id': 'artist:21', 'role': 'Little Bill Dagget'},\n",
      "            {'_id': 'artist:22', 'role': 'Ned Logan'}],\n",
      " 'title': 'Impitoyable'}\n",
      "{'actors': [{'_id': 'artist:27', 'role': 'McClane'}],\n",
      " 'title': '58 minutes pour vivre'}\n",
      "{'actors': [{'_id': 'artist:63', 'role': 'Jimmy Jump'},\n",
      "            {'_id': 'artist:97', 'role': 'Frank White'},\n",
      "            {'_id': 'artist:124', 'role': 'Thomas Flanigan'},\n",
      "            {'_id': 'artist:131', 'role': 'Dennis Gilley'},\n",
      "            {'_id': 'artist:132', 'role': 'Thomas Flanigan'},\n",
      "            {'_id': 'artist:217', 'role': 'Test tube'}],\n",
      " 'title': 'King of New York'}\n",
      "{'actors': [{'_id': 'artist:50', 'role': 'Dr. Hannibal Lecter'},\n",
      "            {'_id': 'artist:51', 'role': 'Clarice Starling'}],\n",
      " 'title': 'Le silence des agneaux'}\n",
      "{'actors': [{'_id': 'artist:167', 'role': 'James Conway'},\n",
      "            {'_id': 'artist:242', 'role': 'Henry Hill'},\n",
      "            {'_id': 'artist:243', 'role': 'Tommy DeVito'},\n",
      "            {'_id': 'artist:244', 'role': 'Karen Hill'}],\n",
      " 'title': 'Les affranchis'}\n",
      "{'actors': [{'_id': 'artist:115', 'role': 'Bob'},\n",
      "            {'_id': 'artist:119', 'role': 'Nikita'},\n",
      "            {'_id': 'artist:120', 'role': 'Marco'}],\n",
      " 'title': 'Nikita'}\n",
      "{'actors': [{'_id': 'artist:30', 'role': 'Van Gogh'}], 'title': 'Van Gogh'}\n",
      "{'actors': [{'_id': 'artist:139', 'role': 'Marcel'},\n",
      "            {'_id': 'artist:140', 'role': 'Enseignante'},\n",
      "            {'_id': 'artist:141', 'role': 'Bruno'}],\n",
      " 'title': 'De bruit et de fureur'}\n",
      "{'actors': [{'_id': 'artist:39', 'role': 'Johanna'},\n",
      "            {'_id': 'artist:60', 'role': 'Enzo Molinari'},\n",
      "            {'_id': 'artist:121', 'role': 'Jacques Mayol'}],\n",
      " 'title': 'Le grand bleu'}\n",
      "{'actors': [{'_id': 'artist:27', 'role': 'McClane'}],\n",
      " 'title': 'Piège de cristal'}\n",
      "{'actors': [{'_id': 'artist:65', 'role': 'Charlie Babbitt'},\n",
      "            {'_id': 'artist:80', 'role': 'Raymond Babbitt'}],\n",
      " 'title': 'Rain Man'}\n",
      "{'actors': [{'_id': 'artist:35', 'role': 'Baskerville'},\n",
      "            {'_id': 'artist:36', 'role': 'de Melk'}],\n",
      " 'title': 'Le last_name de la rose'}\n",
      "{'actors': [], 'title': 'Sacrifice'}\n",
      "{'actors': [{'_id': 'artist:53', 'role': 'Iceman'},\n",
      "            {'_id': 'artist:65', 'role': 'Lt. Pete Maverick Mitchell'},\n",
      "            {'_id': 'artist:82', 'role': 'Charlotte Blackwood'}],\n",
      " 'title': 'Top Gun'}\n",
      "{'actors': [{'_id': 'artist:44', 'role': 'Terminator'}], 'title': 'Terminator'}\n",
      "{'actors': [{'_id': 'artist:24', 'role': 'Han Solo'},\n",
      "            {'_id': 'artist:92', 'role': 'Luke Skywalker'},\n",
      "            {'_id': 'artist:93', 'role': 'Princesse Leia'}],\n",
      " 'title': 'Le retour du Jedi'}\n",
      "{'actors': [{'_id': 'artist:24', 'role': 'Deckard'},\n",
      "            {'_id': 'artist:25', 'role': 'Batty'}],\n",
      " 'title': 'Blade Runner'}\n",
      "{'actors': [], 'title': 'Kagemusha'}\n",
      "{'actors': [{'_id': 'artist:130', 'role': 'Marion Steiner'},\n",
      "            {'_id': 'artist:261', 'role': 'Bernard Granger'},\n",
      "            {'_id': 'artist:262', 'role': 'Jean-Loup Cottins'}],\n",
      " 'title': 'Le dernier métro'}\n",
      "{'actors': [{'_id': 'artist:103', 'role': 'Jack Torrance'}], 'title': 'Shining'}\n",
      "{'actors': [{'_id': 'artist:5', 'role': 'Ripley'}], 'title': 'Alien'}\n",
      "{'actors': [{'_id': 'artist:75', 'role': 'Nathalie Morin'},\n",
      "            {'_id': 'artist:76', 'role': 'Christiane'},\n",
      "            {'_id': 'artist:84', 'role': 'Jean-Claude Dus'},\n",
      "            {'_id': 'artist:85', 'role': 'Jérôme'},\n",
      "            {'_id': 'artist:86', 'role': 'Popeye'}],\n",
      " 'title': 'Les bronzés font du ski'}\n",
      "{'actors': [{'_id': 'artist:72', 'role': 'Inspecteur Cruchot'},\n",
      "            {'_id': 'artist:73', 'role': 'Adjudant Gerber'}],\n",
      " 'title': 'Le gendarme et les extra-terrestres'}\n",
      "{'actors': [{'_id': 'artist:51', 'role': '1962'},\n",
      "            {'_id': 'artist:167', 'role': 'Travis Bickle '}],\n",
      " 'title': 'Taxi driver'}\n",
      "{'actors': [{'_id': 'artist:46', 'role': 'Martin Brody'},\n",
      "            {'_id': 'artist:47', 'role': 'Quint'},\n",
      "            {'_id': 'artist:48', 'role': 'Matt Hooper'}],\n",
      " 'title': 'Les dents de la mer'}\n",
      "{'actors': [{'_id': 'artist:167', 'role': 'Don Vito Corleone'},\n",
      "            {'_id': 'artist:176', 'role': 'Michael Corleone'},\n",
      "            {'_id': 'artist:183', 'role': 'Kay Adams'},\n",
      "            {'_id': 'artist:184', 'role': 'Tom Hagen'}],\n",
      " 'title': 'Le parrain II'}\n",
      "{'actors': [{'_id': 'artist:8', 'role': 'sol'}], 'title': 'Soleil vert'}\n",
      "{'actors': [{'_id': 'artist:137', 'role': 'Sonny Corleone'},\n",
      "            {'_id': 'artist:155', 'role': 'Capt. McCluskey'},\n",
      "            {'_id': 'artist:176', 'role': 'Michael Corleone'},\n",
      "            {'_id': 'artist:182', 'role': 'Do Vito Corleone'},\n",
      "            {'_id': 'artist:183', 'role': 'Kay Adams'},\n",
      "            {'_id': 'artist:184', 'role': 'Tom Hagen'}],\n",
      " 'title': 'Le parrain'}\n",
      "{'actors': [{'_id': 'artist:15', 'role': 'John Ferguson'},\n",
      "            {'_id': 'artist:16', 'role': 'Madeleine Elster'},\n",
      "            {'_id': 'artist:282', 'role': None}],\n",
      " 'title': 'Vertigo'}\n",
      "{'actors': [{'_id': 'artist:20', 'role': None}],\n",
      " 'title': 'Le bon, la brute et le truand'}\n",
      "{'actors': [], 'title': 'Pour quelques dollars de plus'}\n",
      "{'actors': [{'_id': 'artist:35', 'role': '\\n                       Mark R'},\n",
      "            {'_id': 'artist:95', 'role': 'Marnie Edgar'}],\n",
      " 'title': 'Pas de printemps pour Marnie'}\n",
      "{'actors': [{'_id': 'artist:94', 'role': 'Mitch Brenner'},\n",
      "            {'_id': 'artist:95', 'role': 'Melanie Daniels'}],\n",
      " 'title': 'Les oiseaux'}\n",
      "{'actors': [{'_id': 'artist:88', 'role': 'Bates'},\n",
      "            {'_id': 'artist:89', 'role': 'Lila Crane'},\n",
      "            {'_id': 'artist:90', 'role': 'Marion Crane'}],\n",
      " 'title': 'Psychose'}\n",
      "{'actors': [{'_id': 'artist:105', 'role': 'Roger O. Thornhill'},\n",
      "            {'_id': 'artist:106', 'role': 'Eve Kendall'},\n",
      "            {'_id': 'artist:107', 'role': 'Philipp Vandamm'}],\n",
      " 'title': 'La mort aux trousses'}\n",
      "{'actors': [{'_id': 'artist:260', 'role': 'Antoine Doinel'}],\n",
      " 'title': 'Les quatre cents coups'}\n",
      "{'actors': [], 'title': 'Fenêtre sur cour'}\n",
      "{'actors': [{'_id': 'artist:264', 'role': 'Lt. Col. Kirby Yorke'},\n",
      "            {'_id': 'artist:265', 'role': 'Mrs. Kathleen Yorke'}],\n",
      " 'title': 'Rio Grande'}\n",
      "{'actors': [{'_id': 'artist:247', 'role': 'James Bond'},\n",
      "            {'_id': 'artist:249', 'role': 'M'},\n",
      "            {'_id': 'artist:250', 'role': 'Silva'}],\n",
      " 'title': 'Skyfall'}\n",
      "{'actors': [], 'title': 'Inglourious Basterds'}\n"
     ]
    },
    {
     "name": "stderr",
     "output_type": "stream",
     "text": [
      "c:\\program files (x86)\\python37-32\\lib\\site-packages\\ipykernel_launcher.py:3: DeprecationWarning: count is deprecated. Use Collection.count_documents instead.\n",
      "  This is separate from the ipykernel package so we can avoid doing imports until\n"
     ]
    }
   ],
   "source": [
    "#Q : Combien de films dans lesquels ont joué ni l'acteur 34, ni 98, ni 1 et afficher leur titre et la liste des actors ; sens du tri : chronologique décroissant et alphabétique croissant sur les titres des films ?\n",
    "\n",
    "print(movies.find( { \"actors._id\": { \"$nin\": [ \"artist:1\", \"artist:98\", \"artist:34\" ] } }).count())\n",
    "for movie in movies.find( { \"actors._id\": { \"$nin\": [ \"artist:1\", \"artist:98\", \"artist:34\" ] } },\n",
    "                         {\"_id\":0,\"title\":1,\"actors\":1}).sort([(\"year\",-1),(\"title\",1)]):\n",
    "    pprint(movie)"
   ]
  },
  {
   "cell_type": "code",
   "execution_count": 7,
   "metadata": {},
   "outputs": [
    {
     "name": "stdout",
     "output_type": "stream",
     "text": [
      "0\n",
      "6\n",
      "{'_id': 'movie:4',\n",
      " 'actors': [],\n",
      " 'country': 'FR',\n",
      " 'director': {'_id': 'artist:9'},\n",
      " 'genre': 'drama',\n",
      " 'title': 'Sacrifice',\n",
      " 'year': 1986}\n",
      "{'_id': 'movie:25',\n",
      " 'actors': [],\n",
      " 'country': 'JP',\n",
      " 'director': {'_id': 'artist:68'},\n",
      " 'genre': 'Guerre',\n",
      " 'title': 'Kagemusha',\n",
      " 'year': 1980}\n",
      "{'_id': 'movie:40',\n",
      " 'actors': [],\n",
      " 'country': 'USA',\n",
      " 'director': {'_id': 'artist:3'},\n",
      " 'genre': 'Suspense',\n",
      " 'title': 'Fenêtre sur cour',\n",
      " 'year': 1954}\n",
      "{'_id': 'movie:64',\n",
      " 'actors': [],\n",
      " 'country': 'IT',\n",
      " 'director': {'_id': 'artist:219'},\n",
      " 'genre': 'Western',\n",
      " 'title': 'Pour quelques dollars de plus',\n",
      " 'year': 1965}\n",
      "{'_id': 'movie:79',\n",
      " 'actors': [],\n",
      " 'country': 'USA',\n",
      " 'director': {'_id': 'artist:37'},\n",
      " 'genre': 'Guerre',\n",
      " 'title': 'Inglourious Basterds',\n",
      " 'year': 209}\n",
      "{'_id': 'movie:92',\n",
      " 'actors': [],\n",
      " 'country': 'FR',\n",
      " 'director': {'_id': 'artist:281'},\n",
      " 'genre': 'drama',\n",
      " 'title': 'Nous trois ou rien',\n",
      " 'year': 2015}\n"
     ]
    },
    {
     "name": "stderr",
     "output_type": "stream",
     "text": [
      "c:\\program files (x86)\\python37-32\\lib\\site-packages\\ipykernel_launcher.py:4: DeprecationWarning: count is deprecated. Use Collection.count_documents instead.\n",
      "  after removing the cwd from sys.path.\n",
      "c:\\program files (x86)\\python37-32\\lib\\site-packages\\ipykernel_launcher.py:6: DeprecationWarning: count is deprecated. Use Collection.count_documents instead.\n",
      "  \n"
     ]
    }
   ],
   "source": [
    "#Q : Combien de films qui n’ont pas d’attribut actors ? Combien de films dont l'attribut actors n'est pas renseigné et les afficher ?\n",
    "\n",
    "\n",
    "print(movies.find({ \"actors\": { \"$exists\": False} }).count())\n",
    "\n",
    "print(movies.find({ \"actors\": {\"$size\": 0 } }).count())\n",
    "for movie in movies.find({ \"actors\": {\"$size\": 0 } },{\"summary\":0}):\n",
    "    pprint(movie)"
   ]
  },
  {
   "cell_type": "code",
   "execution_count": 111,
   "metadata": {},
   "outputs": [
    {
     "name": "stdout",
     "output_type": "stream",
     "text": [
      "{'director': {'_id': 'artist:20'}, 'title': 'Impitoyable'}\n",
      "{'director': {'_id': 'artist:20'}, 'title': 'Les pleins pouvoirs'}\n",
      "{'director': {'_id': 'artist:20'}, 'title': 'Million Dollar Baby'}\n"
     ]
    }
   ],
   "source": [
    "#Q : Donnez tous les films dont le directeur est Clint Eastwood ?\n",
    "\n",
    "eastwood = artists.find_one({\"first_name\": \"Clint\", \"last_name\": \"Eastwood\"})\n",
    "\n",
    "for movie in movies.find({\"director._id\": eastwood['_id']}, {\"_id\":0,\"title\": 1, \"director._id\" : 1}):\n",
    "    pprint(movie)"
   ]
  },
  {
   "cell_type": "markdown",
   "metadata": {},
   "source": [
    "# Expressions régulières ? "
   ]
  },
  {
   "cell_type": "code",
   "execution_count": 118,
   "metadata": {},
   "outputs": [
    {
     "name": "stdout",
     "output_type": "stream",
     "text": [
      "{'_id': 'movie:36',\n",
      " 'country': 'USA',\n",
      " 'director': {'_id': 'artist:37'},\n",
      " 'genre': 'crime',\n",
      " 'title': 'Reservoir dogs',\n",
      " 'year': 1992}\n"
     ]
    }
   ],
   "source": [
    "#Q : Tous les films dont le titre commence par 'Re' ?\n",
    "\n",
    "for movie in movies.find({\"title\": {\"$regex\":\"^Re\"}}, {\"actors\":0, \"summary\": 0}):\n",
    "    pprint(movie)"
   ]
  },
  {
   "cell_type": "code",
   "execution_count": 119,
   "metadata": {},
   "outputs": [
    {
     "name": "stdout",
     "output_type": "stream",
     "text": [
      "{'_id': 'movie:22',\n",
      " 'country': 'USA',\n",
      " 'director': {'_id': 'artist:58'},\n",
      " 'genre': 'Action',\n",
      " 'title': 'Godzilla',\n",
      " 'year': 1998}\n"
     ]
    }
   ],
   "source": [
    "#Q : Tous les films dont le titre finit par 'la' ?\n",
    "\n",
    "for movie in movies.find({\"title\": {\"$regex\":\"la$\"}}, {\"actors\":0, \"summary\": 0}):\n",
    "    pprint(movie)"
   ]
  },
  {
   "cell_type": "code",
   "execution_count": 8,
   "metadata": {},
   "outputs": [
    {
     "name": "stderr",
     "output_type": "stream",
     "text": [
      "c:\\program files (x86)\\python37-32\\lib\\site-packages\\ipykernel_launcher.py:3: DeprecationWarning: count is deprecated. Use Collection.count_documents instead.\n",
      "  This is separate from the ipykernel package so we can avoid doing imports until\n"
     ]
    },
    {
     "name": "stdout",
     "output_type": "stream",
     "text": [
      "1\n",
      "{'actors': [{'_id': 'artist:23', 'role': 'Maximus'},\n",
      "            {'_id': 'artist:147', 'role': 'Commode'},\n",
      "            {'_id': 'artist:148', 'role': 'Lucilla'},\n",
      "            {'_id': 'artist:149', 'role': 'Marc Aurele'}],\n",
      " 'title': 'Gladiator'}\n"
     ]
    }
   ],
   "source": [
    "#Q : Combien de films ont été joués par l'acteur dont l'id est 147 et les afficher en se limitant au titre du film et la liste des acteurs ?\n",
    "\n",
    "print(movies.find({\"actors._id\": {\"$regex\":\"147$\"}}).count())\n",
    "for movie in movies.find({\"actors._id\": {\"$regex\":\"147$\"}},{\"_id\":0,\"title\":1,\"actors\":1}):\n",
    "    pprint(movie)"
   ]
  },
  {
   "cell_type": "code",
   "execution_count": 16,
   "metadata": {},
   "outputs": [
    {
     "name": "stdout",
     "output_type": "stream",
     "text": [
      "{'_id': 'movie:9',\n",
      " 'country': 'USA',\n",
      " 'director': {'_id': 'artist:4'},\n",
      " 'genre': 'drama',\n",
      " 'title': 'Gladiator',\n",
      " 'year': 2000}\n"
     ]
    }
   ],
   "source": [
    "#Q : Retourner les films joués par l'acteur 147 sans les acteurs et sans le résumé ?\n",
    "\n",
    "for movie in movies.find({\"actors._id\":{\"$regex\":\"147$\"}},{\"actors\":0,\"summary\":0}):\n",
    "    pprint(movie)"
   ]
  },
  {
   "cell_type": "code",
   "execution_count": null,
   "metadata": {},
   "outputs": [],
   "source": []
  }
 ],
 "metadata": {
  "kernelspec": {
   "display_name": "Python 3",
   "language": "python",
   "name": "python3"
  },
  "language_info": {
   "codemirror_mode": {
    "name": "ipython",
    "version": 3
   },
   "file_extension": ".py",
   "mimetype": "text/x-python",
   "name": "python",
   "nbconvert_exporter": "python",
   "pygments_lexer": "ipython3",
   "version": "3.7.4"
  }
 },
 "nbformat": 4,
 "nbformat_minor": 4
}
