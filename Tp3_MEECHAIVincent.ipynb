{
 "cells": [
  {
   "cell_type": "code",
   "execution_count": 48,
   "metadata": {},
   "outputs": [
    {
     "name": "stdout",
     "output_type": "stream",
     "text": [
      "connexion success\n"
     ]
    }
   ],
   "source": [
    "from pprint import pprint\n",
    "from pymongo import MongoClient\n",
    "client = MongoClient('mongodb://localhost:27017/')\n",
    "db = client.db_agg\n",
    "restaurants = db.restaurants\n",
    "transactions = db.transactions\n",
    "print('connexion success')"
   ]
  },
  {
   "cell_type": "markdown",
   "metadata": {},
   "source": [
    "#  Exercice  Aggréger des restaurants "
   ]
  },
  {
   "cell_type": "code",
   "execution_count": 19,
   "metadata": {},
   "outputs": [],
   "source": [
    "# Q : Créer 1DB restaurant, ajouter 1 collection \"restaurants\", la remplir avec le fichier restaurants.json.\n",
    "\n",
    "\n",
    "#commande mongo:\n",
    "# mongoimport -d restaurant -c restaurants --drop --file \"C:\\Users\\vince\\Downloads\\NoSQL\\fichierJson\\restaurants.json\"\n"
   ]
  },
  {
   "cell_type": "code",
   "execution_count": 20,
   "metadata": {},
   "outputs": [
    {
     "name": "stdout",
     "output_type": "stream",
     "text": [
      "{'_id': 'Bronx', 'nb_restaurant': 2338}\n",
      "{'_id': 'Brooklyn', 'nb_restaurant': 6085}\n",
      "{'_id': 'Manhattan', 'nb_restaurant': 10258}\n",
      "{'_id': 'Missing', 'nb_restaurant': 51}\n",
      "{'_id': 'Queens', 'nb_restaurant': 5656}\n",
      "{'_id': 'Staten Island', 'nb_restaurant': 969}\n"
     ]
    }
   ],
   "source": [
    "# Q : La répartition des restaurants par quartier ?\n",
    "\n",
    "repart_resto_borough = { \"$group\":{\"_id\": \"$borough\",\"nb_restaurant\":{\"$sum\" : 1}}}\n",
    "tri = {\"$sort\" : {\"_id\":1}}\n",
    "for resto in restaurants.aggregate([repart_resto_borough, tri]):\n",
    "    print(resto)\n"
   ]
  },
  {
   "cell_type": "code",
   "execution_count": 21,
   "metadata": {},
   "outputs": [
    {
     "name": "stdout",
     "output_type": "stream",
     "text": [
      "{'_id': 'Bronx', 'nb_restaurant': 27}\n",
      "{'_id': 'Brooklyn', 'nb_restaurant': 56}\n",
      "{'_id': 'Manhattan', 'nb_restaurant': 83}\n",
      "{'_id': 'Queens', 'nb_restaurant': 47}\n",
      "{'_id': 'Staten Island', 'nb_restaurant': 7}\n"
     ]
    }
   ],
   "source": [
    "# Q : La répartition des restaurants dont la dernière inspection a donné un grade \"C\" par quartier ?\n",
    "\n",
    "match_grade_C = { \"$match\" : {\"grades.0.grade\":\"C\"}}\n",
    "proj = {\"$project\" : {\"name\":1, \"borough\":1,\"_id\":0}}\n",
    "tri = {\"$sort\" : {\"_id\":1}}\n",
    "for resto in restaurants.aggregate([match_grade_C,proj,repart_resto_borough, tri]):\n",
    "    print(resto)"
   ]
  },
  {
   "cell_type": "code",
   "execution_count": 22,
   "metadata": {},
   "outputs": [
    {
     "name": "stdout",
     "output_type": "stream",
     "text": [
      "{'_id': 'Queens', 'moyenne': 11.634865110930088}\n",
      "{'_id': 'Brooklyn', 'moyenne': 11.447723132969035}\n",
      "{'_id': 'Manhattan', 'moyenne': 11.41823125728344}\n",
      "{'_id': 'Staten Island', 'moyenne': 11.370957711442786}\n",
      "{'_id': 'Bronx', 'moyenne': 11.036186099942562}\n",
      "{'_id': 'Missing', 'moyenne': 9.632911392405063}\n"
     ]
    }
   ],
   "source": [
    "# Q : Calculer le score moyen des resto par quartier et trier par score décroissant ?\n",
    "\n",
    "eclater_liste = {\"$unwind\" : \"$grades\"}\n",
    "mean_quartier = {\"$group\" : {\"_id\":\"$borough\",\"moyenne\":{\"$avg\":\"$grades.score\"}}}\n",
    "tri = {\"$sort\": {\"moyenne\":-1}}\n",
    "for restaurant in restaurants.aggregate([eclater_liste, mean_quartier, tri]):\n",
    "    print(restaurant)"
   ]
  },
  {
   "cell_type": "markdown",
   "metadata": {},
   "source": [
    "# Exercice  Aggréger des transactions  \n"
   ]
  },
  {
   "cell_type": "code",
   "execution_count": 29,
   "metadata": {},
   "outputs": [],
   "source": [
    "# Q : Créer une collection \"transactions\" à partir du fichier transactions.json et répondre aux questions suivantes :\n",
    "\n",
    "#commande mongo :\n",
    "# mongoimport -d db_agg -c transactions --drop --file \"C:\\Users\\vince\\Downloads\\NoSQL\\fichierJson\\transactions.json\" --jsonArray\n"
   ]
  },
  {
   "cell_type": "code",
   "execution_count": 79,
   "metadata": {},
   "outputs": [
    {
     "name": "stdout",
     "output_type": "stream",
     "text": [
      "{'_id': 'Total', 'Total': 1230}\n"
     ]
    }
   ],
   "source": [
    "# Q-1. Calculer le montant total des paiements ?\n",
    "\n",
    "match = {\"$match\" : {\"Payment.Success\":True}}\n",
    "group = {\"$group\" : {\"_id\":\"Total\",\"Total\":{\"$sum\":\"$Payment.Total\"}}}\n",
    "for transaction in transactions.aggregate([match, group]):\n",
    "    print(transaction)"
   ]
  },
  {
   "cell_type": "code",
   "execution_count": 76,
   "metadata": {},
   "outputs": [
    {
     "name": "stdout",
     "output_type": "stream",
     "text": [
      "{'Total': 410, '_id': 'tran3'}\n",
      "{'Total': 410, '_id': 'tran4'}\n",
      "{'Total': 410, '_id': 'tran1'}\n",
      "{'Total': 410, '_id': 'tran2'}\n"
     ]
    }
   ],
   "source": [
    "# Q-2. Calculer le montant total par paiment ?\n",
    "\n",
    "eclater_liste = {\"$unwind\" : \"$Panier\"}\n",
    "group = {\"$group\" : {\"_id\":\"$TransactionId\",\"Total\":{\"$sum\":\"$Panier.price\"}}}\n",
    "for transaction in transactions.aggregate([eclater_liste,group]):\n",
    "    pprint(transaction)\n"
   ]
  },
  {
   "cell_type": "code",
   "execution_count": 63,
   "metadata": {},
   "outputs": [
    {
     "name": "stdout",
     "output_type": "stream",
     "text": [
      "{'_id': 'Debit-Card', 'Total': 410}\n",
      "{'_id': 'Credit-Card', 'Total': 820}\n"
     ]
    }
   ],
   "source": [
    "# Q-3. Calculate total payments (Payment.Total) for each payment type (Payment.Type) ?\n",
    "\n",
    "match = {\"$match\" : {\"Payment.Success\":True}}\n",
    "group = {\"$group\" : {\"_id\":\"$Payment.Type\",\"Total\":{\"$sum\":\"$Payment.Total\"}}}\n",
    "for transaction in transactions.aggregate([match, group]):\n",
    "    print(transaction)\n"
   ]
  },
  {
   "cell_type": "code",
   "execution_count": 69,
   "metadata": {},
   "outputs": [
    {
     "name": "stdout",
     "output_type": "stream",
     "text": [
      "{'Id': 103,\n",
      " 'Name': 'Dylan',\n",
      " 'Note': 'Payment is Null',\n",
      " 'Panier': [{'ItemId': 'a100', 'price': 200}, {'ItemId': 'a110', 'price': 210}],\n",
      " 'Payment': None,\n",
      " 'Subscriber': True,\n",
      " 'TransactionId': 'tran4',\n",
      " '_id': ObjectId('601015ce0c3964a51ae3b528')}\n"
     ]
    }
   ],
   "source": [
    "# Q-4. Trouver l'Id le plus élevé.\n",
    "\n",
    "tri = {\"$sort\": {\"Id\": -1 }}\n",
    "limit = {\"$limit\": 1}\n",
    "for transaction in transactions.aggregate([tri,limit]):\n",
    "    pprint(transaction)\n"
   ]
  },
  {
   "cell_type": "code",
   "execution_count": 73,
   "metadata": {},
   "outputs": [
    {
     "name": "stdout",
     "output_type": "stream",
     "text": [
      "{'Id': 102,\n",
      " 'Name': 'Margaret',\n",
      " 'Panier': {'ItemId': 'a100', 'price': 200},\n",
      " 'Payment': {'Success': True, 'Total': 410, 'Type': 'Credit-Card'},\n",
      " 'Subscriber': True,\n",
      " 'TransactionId': 'tran3',\n",
      " '_id': ObjectId('601015ce0c3964a51ae3b526')}\n"
     ]
    }
   ],
   "source": [
    "# Q-5. Find the max price (Transaction.price) ?\n",
    "\n",
    "eclater_liste = {\"$unwind\" : \"$Panier\"}\n",
    "tri = {\"$sort\": {\"Panier.price\": -1 }}\n",
    "limit = {\"$limit\": 1}\n",
    "for transaction in transactions.aggregate([tri,eclater_liste,limit]):\n",
    "    pprint(transaction)\n",
    "\n"
   ]
  },
  {
   "cell_type": "code",
   "execution_count": null,
   "metadata": {},
   "outputs": [],
   "source": []
  }
 ],
 "metadata": {
  "kernelspec": {
   "display_name": "Python 3",
   "language": "python",
   "name": "python3"
  },
  "language_info": {
   "codemirror_mode": {
    "name": "ipython",
    "version": 3
   },
   "file_extension": ".py",
   "mimetype": "text/x-python",
   "name": "python",
   "nbconvert_exporter": "python",
   "pygments_lexer": "ipython3",
   "version": "3.7.4"
  }
 },
 "nbformat": 4,
 "nbformat_minor": 4
}
